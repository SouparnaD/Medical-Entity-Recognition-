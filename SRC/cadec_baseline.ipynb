{
  "nbformat": 4,
  "nbformat_minor": 0,
  "metadata": {
    "colab": {
      "name": "cadec_baseline",
      "provenance": [],
      "collapsed_sections": [],
      "machine_shape": "hm"
    },
    "kernelspec": {
      "name": "python3",
      "display_name": "Python 3"
    },
    "accelerator": "GPU"
  },
  "cells": [
    {
      "cell_type": "code",
      "metadata": {
        "id": "cNncvh9B5GKE",
        "colab_type": "code",
        "colab": {}
      },
      "source": [
        "from string import punctuation\n",
        "from os import listdir\n",
        "from numpy import array\n",
        "from numpy import asarray\n",
        "from numpy import zeros\n",
        "\n",
        "\n",
        "\n",
        "def load_embedding(filename):\n",
        "\t# load embedding into memory, skip first line\n",
        "\tfile = open(filename,'r')\n",
        "\tlines = file.readlines()[1:]\n",
        "\tfile.close()\n",
        "\t# create a map of words to vectors\n",
        "\tembedding = dict()\n",
        "\tfor line in lines:\n",
        "\t\tparts = line.split()\n",
        "\t\t# key is string word, value is numpy array for vector\n",
        "\t\tembedding[parts[0]] = asarray(parts[1:], dtype='float32')\n",
        "\treturn embedding\n",
        " \n",
        "# create a weight matrix for the Embedding layer from a loaded embedding\n",
        "def get_weight_matrix(embedding, vocab, size):\n",
        "\t# total vocabulary size plus 0 for unknown words\n",
        "\tvocab_size = len(vocab) + 1\n",
        "\t# define weight matrix dimensions with all 0\n",
        "\tweight_matrix = zeros((vocab_size, size))\n",
        "\t# step vocab, store vectors using the Tokenizer's integer mapping\n",
        "\tfor word, i in vocab.items():\n",
        "\t\tweight_matrix[i] = embedding.get(word)\n",
        "\treturn weight_matrix\n"
      ],
      "execution_count": 0,
      "outputs": []
    },
    {
      "cell_type": "code",
      "metadata": {
        "id": "gBq3natB44LN",
        "colab_type": "code",
        "outputId": "6d62a635-cd0e-4bb4-bc26-d95bec24cdc4",
        "colab": {
          "base_uri": "https://localhost:8080/",
          "height": 552
        }
      },
      "source": [
        "# -*- coding: utf-8 -*-\n",
        "\"\"\"\n",
        "Created on Fri Oct 18 18:53:56 2019\n",
        "\n",
        "@author: Souparna\n",
        "\"\"\"\n",
        "import gensim\n",
        "from gensim.models import Word2Vec\n",
        "from keras.preprocessing.text import Tokenizer\n",
        "from sklearn.preprocessing import LabelEncoder, MultiLabelBinarizer, OneHotEncoder\n",
        "from sklearn.model_selection import train_test_split\n",
        "\n",
        "\n",
        "from keras.preprocessing.sequence import pad_sequences\n",
        "from keras.models import Sequential\n",
        "from keras.layers import Dense, Activation, TimeDistributed, Dropout\n",
        "from keras.layers import Flatten\n",
        "from keras.layers import Embedding, Bidirectional, SpatialDropout1D\n",
        "from keras.layers.recurrent import LSTM\n",
        "# from keras_contrib.layers import CRF\n",
        "\n",
        "\n",
        "# from utilities import load_embedding, get_weight_matrix\n",
        "\n",
        "import pandas as pd\n",
        "# data_file_path = \"CADEC.csv\"\n",
        "data_file_path = '/content/gdrive/My Drive/updated_annotated_data.csv'\n",
        "\n",
        "w2v_filename = \"w2v_embeddings.txt\"\n",
        "\n",
        "data = pd.read_csv(data_file_path)\n",
        "print(data[\"label\"].value_counts())\n",
        "\n",
        "tags = list(set(data[\"label\"].values))\n",
        "n_tags = len(tags);\n",
        "\n",
        "\n",
        "\n",
        "tag2idx = {t: i for i, t in enumerate(tags)}\n",
        "# tag2idx[\"PAD\"] = 0\n",
        "idx2tag = {v: k for k, v in tag2idx.items()}\n",
        "print(\"tag2idx\",tag2idx)\n",
        "print(\"idx2tag\", idx2tag)\n",
        "\n",
        "data['word'] = data['word'].astype(str)\n",
        "\n",
        "#------------------ word 2 vec ----------------------\n",
        "sentences = data.groupby([\"sec_no\"])[\"word\"].apply(list).to_list()\n",
        "\n",
        "# texts = [gensim.utils.simple_preprocess(i) for word in sentences for i in word ]\n",
        "\n",
        "# w2v_model = Word2Vec(texts, min_count = 1,  size = 300, window = 5, iter = 50)\n",
        "# w2v_model.wv.save_word2vec_format(w2v_filename, binary=False)\n",
        "\n",
        "\n",
        "tokenizer = Tokenizer()\n",
        "tokenizer.fit_on_texts(sentences)\n",
        "\n",
        "# max_length = max([len(i) for i in sentences])\n",
        "max_length = 35\n",
        "\n",
        "encoded_docs = tokenizer.texts_to_sequences(sentences)\n",
        "\n",
        "\n",
        "vocab_size = len(tokenizer.word_index) + 1\n",
        "X_data = pad_sequences(encoded_docs, maxlen=max_length, padding='post', value = vocab_size+1)\n",
        "reverse_word_map = dict(map(reversed, tokenizer.word_index.items()))\n",
        "\n",
        "# # load embedding from file\n",
        "# raw_embedding = load_embedding(w2v_filename)\n",
        "# # get vectors in the right order\n",
        "# embedding_vectors = get_weight_matrix(raw_embedding, tokenizer.word_index, 300)\n",
        "# # create the embedding layer\n",
        "# embedding_layer = Embedding(vocab_size, 300, weights=[embedding_vectors],\n",
        "#                             input_length=max_length, trainable=False)\n",
        "\n",
        "\n",
        "y_labels = data.groupby([\"sec_no\"])[\"label\"].apply(list).to_list()\n",
        "\n",
        "y = [[tag2idx[l_i] for l_i in l] for l in y_labels]\n",
        "y = pad_sequences(maxlen=max_length, sequences=y, padding=\"post\", value=tag2idx[\"O\"])\n",
        "\n",
        "\n",
        "# X_data = X_data[:50000]\n",
        "# y = y[:50000]\n",
        "\n",
        "\n",
        "x_train, x_test, y_train, y_test = train_test_split(X_data,y , test_size = 0.1)\n",
        "print(x_train.shape)\n",
        "print(y_train.shape)\n",
        "print(x_test.shape)\n",
        "print(y_test.shape)\n",
        "\n",
        "\n",
        "model = Sequential()\n",
        "# model.add(embedding_layer)\n",
        "model.add(Embedding(vocab_size, output_dim=40, \n",
        "                  input_length=max_length, mask_zero=True))\n",
        "model.add(Bidirectional(LSTM(64, return_sequences=True, recurrent_dropout=0.1)))\n",
        "\n",
        "\n",
        "model.add(TimeDistributed(Dense(n_tags, activation=\"softmax\")))\n",
        "# model.add(TimeDistributed(Dense(50, activation=\"relu\")))\n",
        "# crf = CRF(n_tags+1, sparse_target=True)\n",
        "# model.add(crf)\n",
        "\n",
        "model.compile(optimizer='Adam', loss=\"sparse_categorical_crossentropy\", metrics = [\"accuracy\"])\n",
        "# model.compile(optimizer='rmsprop', loss=crf.loss_function, metrics = [crf.accuracy])\n",
        "print(model.summary())\n",
        "\n",
        "history = model.fit(x_train, y_train.reshape(*y_train.shape, 1), batch_size=128, epochs=3,validation_split=0.1, verbose=1)\n",
        "\n",
        "\n"
      ],
      "execution_count": 75,
      "outputs": [
        {
          "output_type": "stream",
          "text": [
            "O            5034983\n",
            "B-Symptom     352543\n",
            "I-Symptom       5155\n",
            "Name: label, dtype: int64\n",
            "tag2idx {'B-Symptom': 0, 'O': 1, 'I-Symptom': 2}\n",
            "idx2tag {0: 'B-Symptom', 1: 'O', 2: 'I-Symptom'}\n",
            "(307983, 35)\n",
            "(307983, 35)\n",
            "(34221, 35)\n",
            "(34221, 35)\n",
            "Model: \"sequential_7\"\n",
            "_________________________________________________________________\n",
            "Layer (type)                 Output Shape              Param #   \n",
            "=================================================================\n",
            "embedding_7 (Embedding)      (None, 35, 40)            8622840   \n",
            "_________________________________________________________________\n",
            "bidirectional_7 (Bidirection (None, 35, 128)           53760     \n",
            "_________________________________________________________________\n",
            "time_distributed_7 (TimeDist (None, 35, 3)             387       \n",
            "=================================================================\n",
            "Total params: 8,676,987\n",
            "Trainable params: 8,676,987\n",
            "Non-trainable params: 0\n",
            "_________________________________________________________________\n",
            "None\n",
            "Train on 277184 samples, validate on 30799 samples\n",
            "Epoch 1/3\n",
            "277184/277184 [==============================] - 264s 953us/step - loss: 0.0227 - acc: 0.9954 - val_loss: 0.0036 - val_acc: 0.9988\n",
            "Epoch 2/3\n",
            "277184/277184 [==============================] - 257s 929us/step - loss: 0.0026 - acc: 0.9991 - val_loss: 0.0025 - val_acc: 0.9993\n",
            "Epoch 3/3\n",
            "277184/277184 [==============================] - 256s 925us/step - loss: 0.0016 - acc: 0.9995 - val_loss: 0.0023 - val_acc: 0.9994\n"
          ],
          "name": "stdout"
        }
      ]
    },
    {
      "cell_type": "code",
      "metadata": {
        "id": "nkLbCA3dAvUm",
        "colab_type": "code",
        "outputId": "a133a3a5-8cc5-4400-a8d5-b048108dca0c",
        "colab": {
          "base_uri": "https://localhost:8080/",
          "height": 50
        }
      },
      "source": [
        "y_hat = model.predict(x_test, verbose=1)\n",
        "y_hat.shape\n"
      ],
      "execution_count": 76,
      "outputs": [
        {
          "output_type": "stream",
          "text": [
            "34221/34221 [==============================] - 45s 1ms/step\n"
          ],
          "name": "stdout"
        },
        {
          "output_type": "execute_result",
          "data": {
            "text/plain": [
              "(34221, 35, 3)"
            ]
          },
          "metadata": {
            "tags": []
          },
          "execution_count": 76
        }
      ]
    },
    {
      "cell_type": "code",
      "metadata": {
        "id": "u6z1gNR01LUS",
        "colab_type": "code",
        "outputId": "ab90612a-3bf3-41a6-bccd-668ebcaea256",
        "colab": {
          "base_uri": "https://localhost:8080/",
          "height": 301
        }
      },
      "source": [
        "import numpy\n",
        "# import sklearn_crfsuite\n",
        "def pred2label(pred):\n",
        "  out = []\n",
        "  for pred_i in pred:\n",
        "    out_i = []\n",
        "    for p in pred_i:\n",
        "      p_i = numpy.argmax(p)\n",
        "      out_i.append(idx2tag[p_i])\n",
        "    out.append(out_i)\n",
        "  return out\n",
        "\n",
        "def test2label(pred):\n",
        "  out = []\n",
        "  for pred_i in pred:\n",
        "    out_i = []\n",
        "    for p in pred_i:\n",
        "      out_i.append(idx2tag[p])\n",
        "    out.append(out_i)\n",
        "  return out\n",
        "pred_labels = pred2label(y_hat)\n",
        "test_labels = test2label(y_test)\n",
        "from sklearn_crfsuite.metrics import flat_classification_report\n",
        "from seqeval.metrics import precision_score, recall_score, f1_score, classification_report\n",
        "print(classification_report(test_labels, pred_labels))\n",
        "print(flat_classification_report(test_labels, pred_labels))"
      ],
      "execution_count": 77,
      "outputs": [
        {
          "output_type": "stream",
          "text": [
            "           precision    recall  f1-score   support\n",
            "\n",
            "  Symptom       0.99      0.99      0.99     35308\n",
            "\n",
            "micro avg       0.99      0.99      0.99     35308\n",
            "macro avg       0.99      0.99      0.99     35308\n",
            "\n",
            "              precision    recall  f1-score   support\n",
            "\n",
            "   B-Symptom       0.99      0.99      0.99     35308\n",
            "   I-Symptom       0.95      0.81      0.87       502\n",
            "           O       1.00      1.00      1.00   1161925\n",
            "\n",
            "    accuracy                           1.00   1197735\n",
            "   macro avg       0.98      0.93      0.95   1197735\n",
            "weighted avg       1.00      1.00      1.00   1197735\n",
            "\n"
          ],
          "name": "stdout"
        }
      ]
    },
    {
      "cell_type": "code",
      "metadata": {
        "id": "hYnHm14woVt2",
        "colab_type": "code",
        "colab": {
          "base_uri": "https://localhost:8080/",
          "height": 351
        },
        "outputId": "4f03be7f-4b4e-49a5-a809-bc1f43f85b0f"
      },
      "source": [
        "import numpy as np\n",
        "idx2tag = {i: w for w, i in tag2idx.items()}\n",
        "\n",
        "\n",
        "def pred2label(pred):\n",
        "    out = []\n",
        "    for pred_i in pred:\n",
        "        out_i = []\n",
        "        for p in pred_i:\n",
        "            p_i = np.argmax(p)\n",
        "            out_i.append(idx2tag[p_i])\n",
        "        out.append(out_i)\n",
        "    return out\n",
        "    \n",
        "def test2label(pred):\n",
        "    out = []\n",
        "    for pred_i in pred:\n",
        "        out_i = []\n",
        "        for p in pred_i:\n",
        "            out_i.append(idx2tag[p])\n",
        "        out.append(out_i)\n",
        "    return out\n",
        "    \n",
        "pred_labels = pred2label(y_hat)\n",
        "\n",
        "test_labels = test2label(y_test)\n",
        "print(classification_report(test_labels, pred_labels))\n",
        "print(flat_classification_report(test_labels, pred_labels))\n",
        "print(np.array(pred_labels).shape)\n",
        "print(np.array(test_labels).shape)\n",
        "\n",
        "count = 0\n",
        "total = 0\n",
        "for i in range(len(test_labels)):\n",
        "  if test_labels[i] == pred_labels[i]:\n",
        "    count += 1\n",
        "  total += 1\n",
        "print(\" accuracy : \",count/total)\n"
      ],
      "execution_count": 78,
      "outputs": [
        {
          "output_type": "stream",
          "text": [
            "           precision    recall  f1-score   support\n",
            "\n",
            "  Symptom       0.99      0.99      0.99     35308\n",
            "\n",
            "micro avg       0.99      0.99      0.99     35308\n",
            "macro avg       0.99      0.99      0.99     35308\n",
            "\n",
            "              precision    recall  f1-score   support\n",
            "\n",
            "   B-Symptom       0.99      0.99      0.99     35308\n",
            "   I-Symptom       0.95      0.81      0.87       502\n",
            "           O       1.00      1.00      1.00   1161925\n",
            "\n",
            "    accuracy                           1.00   1197735\n",
            "   macro avg       0.98      0.93      0.95   1197735\n",
            "weighted avg       1.00      1.00      1.00   1197735\n",
            "\n",
            "(34221, 35)\n",
            "(34221, 35)\n",
            " accuracy :  0.9845416557084831\n"
          ],
          "name": "stdout"
        }
      ]
    },
    {
      "cell_type": "code",
      "metadata": {
        "id": "3xVz3t7NqnPk",
        "colab_type": "code",
        "colab": {
          "base_uri": "https://localhost:8080/",
          "height": 652
        },
        "outputId": "5e11e19b-62d3-4697-a390-25bbf161d9de"
      },
      "source": [
        "for i in range(34):\n",
        "  for j in range(35):\n",
        "    if test_labels[i][j] == 'B-Symptom' or test_labels[i][j] ==  'I-Symptom':\n",
        "      print(test_labels[i][j], \"               \", pred_labels[i][j])"
      ],
      "execution_count": 84,
      "outputs": [
        {
          "output_type": "stream",
          "text": [
            "B-Symptom                 B-Symptom\n",
            "B-Symptom                 B-Symptom\n",
            "B-Symptom                 B-Symptom\n",
            "B-Symptom                 B-Symptom\n",
            "B-Symptom                 B-Symptom\n",
            "B-Symptom                 B-Symptom\n",
            "B-Symptom                 B-Symptom\n",
            "B-Symptom                 B-Symptom\n",
            "B-Symptom                 B-Symptom\n",
            "B-Symptom                 B-Symptom\n",
            "B-Symptom                 B-Symptom\n",
            "B-Symptom                 B-Symptom\n",
            "B-Symptom                 B-Symptom\n",
            "B-Symptom                 B-Symptom\n",
            "B-Symptom                 B-Symptom\n",
            "B-Symptom                 B-Symptom\n",
            "B-Symptom                 B-Symptom\n",
            "B-Symptom                 B-Symptom\n",
            "B-Symptom                 B-Symptom\n",
            "B-Symptom                 B-Symptom\n",
            "B-Symptom                 B-Symptom\n",
            "B-Symptom                 B-Symptom\n",
            "B-Symptom                 B-Symptom\n",
            "B-Symptom                 B-Symptom\n",
            "I-Symptom                 I-Symptom\n",
            "B-Symptom                 B-Symptom\n",
            "B-Symptom                 B-Symptom\n",
            "B-Symptom                 B-Symptom\n",
            "B-Symptom                 B-Symptom\n",
            "B-Symptom                 B-Symptom\n",
            "B-Symptom                 B-Symptom\n",
            "B-Symptom                 B-Symptom\n",
            "B-Symptom                 B-Symptom\n",
            "B-Symptom                 B-Symptom\n",
            "B-Symptom                 B-Symptom\n",
            "B-Symptom                 B-Symptom\n",
            "B-Symptom                 B-Symptom\n",
            "B-Symptom                 B-Symptom\n"
          ],
          "name": "stdout"
        }
      ]
    },
    {
      "cell_type": "markdown",
      "metadata": {
        "id": "mu1mWq5YfpHN",
        "colab_type": "text"
      },
      "source": [
        ""
      ]
    },
    {
      "cell_type": "code",
      "metadata": {
        "id": "oain9y49y9sG",
        "colab_type": "code",
        "colab": {
          "base_uri": "https://localhost:8080/",
          "height": 120
        },
        "outputId": "2d29e5f7-3390-4100-9aa8-020e5511295f"
      },
      "source": [
        "from google.colab import drive\n",
        "drive.mount('/content/gdrive')"
      ],
      "execution_count": 2,
      "outputs": [
        {
          "output_type": "stream",
          "text": [
            "Go to this URL in a browser: https://accounts.google.com/o/oauth2/auth?client_id=947318989803-6bn6qk8qdgf4n4g3pfee6491hc0brc4i.apps.googleusercontent.com&redirect_uri=urn%3Aietf%3Awg%3Aoauth%3A2.0%3Aoob&scope=email%20https%3A%2F%2Fwww.googleapis.com%2Fauth%2Fdocs.test%20https%3A%2F%2Fwww.googleapis.com%2Fauth%2Fdrive%20https%3A%2F%2Fwww.googleapis.com%2Fauth%2Fdrive.photos.readonly%20https%3A%2F%2Fwww.googleapis.com%2Fauth%2Fpeopleapi.readonly&response_type=code\n",
            "\n",
            "Enter your authorization code:\n",
            "··········\n",
            "Mounted at /content/gdrive\n"
          ],
          "name": "stdout"
        }
      ]
    },
    {
      "cell_type": "code",
      "metadata": {
        "id": "CUmlxaa8MhsE",
        "colab_type": "code",
        "colab": {
          "base_uri": "https://localhost:8080/",
          "height": 485
        },
        "outputId": "0e23c377-fc8e-4495-e4cc-a10b76da8b65"
      },
      "source": [
        "!ls '/content/gdrive/My Drive/updated_annotated_data.csv'"
      ],
      "execution_count": 8,
      "outputs": [
        {
          "output_type": "stream",
          "text": [
            " 1-s2.0-S1877042811014005-main.pdf\n",
            " 20180818_174343.jpg\n",
            " 47299154-Solution-Manual-Introduction-to-the-Theory-of-Computation-Sipser.pdf\n",
            " CADEC.csv\n",
            " cadec_twitter_bilastmcrf.ipynb\n",
            " eyedetails.pdf\n",
            " FeeRecieptSpring.pdf\n",
            "'Getting started.pdf'\n",
            " github-git-cheat-sheet.pdf\n",
            "'Inter IIT.pdf'\n",
            "'linux system programming.pdf'\n",
            " OS_Assignment_1.pdf\n",
            "'OTM_2019_paper_140 .pdf'\n",
            " Project_Scope.docx\n",
            " resume_12_oct_2019.pdf\n",
            "'resume_12_oct_2019 - Souparna Das.pdf'\n",
            " resume.pdf\n",
            " resumes\n",
            " sc11-cuda-c-basics.pdf\n",
            "'Scan Nov 17, 2018 (1).pdf'\n",
            "'Scan Nov 17, 2018.pdf'\n",
            " SMAI_ASSIGNMENTS\n",
            "'System Design Book.pdf'\n",
            " ticket6.pdf\n",
            " Ticketdurgapuja.pdf\n",
            " twoWheeler.pdf\n",
            "'Untitled Diagram.drawio'\n",
            " updated_annotated_data.csv\n"
          ],
          "name": "stdout"
        }
      ]
    },
    {
      "cell_type": "code",
      "metadata": {
        "id": "2COX88lIOw3j",
        "colab_type": "code",
        "colab": {
          "base_uri": "https://localhost:8080/",
          "height": 33
        },
        "outputId": "dbfa2f28-e5e4-46e2-8d78-23b8ffc97d0d"
      },
      "source": [
        "data.shape"
      ],
      "execution_count": 16,
      "outputs": [
        {
          "output_type": "execute_result",
          "data": {
            "text/plain": [
              "(5392681, 4)"
            ]
          },
          "metadata": {
            "tags": []
          },
          "execution_count": 16
        }
      ]
    },
    {
      "cell_type": "code",
      "metadata": {
        "id": "IZ0EcQ_xVkat",
        "colab_type": "code",
        "colab": {
          "base_uri": "https://localhost:8080/",
          "height": 184
        },
        "outputId": "6cf52588-e4e0-43f6-8381-66fad6d6d0f6"
      },
      "source": [
        "data[0:10].groupby(['sec_no'])['word'].apply(list).to_list()"
      ],
      "execution_count": 28,
      "outputs": [
        {
          "output_type": "execute_result",
          "data": {
            "text/plain": [
              "[['Happy',\n",
              "  'Together',\n",
              "  '4',\n",
              "  '-',\n",
              "  'SM',\n",
              "  'Entertainment',\n",
              "  'special',\n",
              "  'guest',\n",
              "  'lineup',\n",
              "  'BoA']]"
            ]
          },
          "metadata": {
            "tags": []
          },
          "execution_count": 28
        }
      ]
    },
    {
      "cell_type": "code",
      "metadata": {
        "id": "Q5Y7b7uwVtrv",
        "colab_type": "code",
        "colab": {
          "base_uri": "https://localhost:8080/",
          "height": 33
        },
        "outputId": "9e8f58a9-d751-4e53-a1ea-f3258a755d04"
      },
      "source": [
        "str('happy')"
      ],
      "execution_count": 29,
      "outputs": [
        {
          "output_type": "execute_result",
          "data": {
            "text/plain": [
              "'happy'"
            ]
          },
          "metadata": {
            "tags": []
          },
          "execution_count": 29
        }
      ]
    },
    {
      "cell_type": "code",
      "metadata": {
        "id": "LJ_x4HNYXXzn",
        "colab_type": "code",
        "colab": {
          "base_uri": "https://localhost:8080/",
          "height": 204
        },
        "outputId": "57972adf-efb7-4f71-893c-16f475877d65"
      },
      "source": [
        "pip install sklearn_crfsuite"
      ],
      "execution_count": 37,
      "outputs": [
        {
          "output_type": "stream",
          "text": [
            "Collecting sklearn_crfsuite\n",
            "  Downloading https://files.pythonhosted.org/packages/25/74/5b7befa513482e6dee1f3dd68171a6c9dfc14c0eaa00f885ffeba54fe9b0/sklearn_crfsuite-0.3.6-py2.py3-none-any.whl\n",
            "Requirement already satisfied: tabulate in /usr/local/lib/python3.6/dist-packages (from sklearn_crfsuite) (0.8.5)\n",
            "Requirement already satisfied: six in /usr/local/lib/python3.6/dist-packages (from sklearn_crfsuite) (1.12.0)\n",
            "Collecting python-crfsuite>=0.8.3\n",
            "\u001b[?25l  Downloading https://files.pythonhosted.org/packages/2f/86/cfcd71edca9d25d3d331209a20f6314b6f3f134c29478f90559cee9ce091/python_crfsuite-0.9.6-cp36-cp36m-manylinux1_x86_64.whl (754kB)\n",
            "\u001b[K     |████████████████████████████████| 757kB 3.9MB/s \n",
            "\u001b[?25hRequirement already satisfied: tqdm>=2.0 in /usr/local/lib/python3.6/dist-packages (from sklearn_crfsuite) (4.28.1)\n",
            "Installing collected packages: python-crfsuite, sklearn-crfsuite\n",
            "Successfully installed python-crfsuite-0.9.6 sklearn-crfsuite-0.3.6\n"
          ],
          "name": "stdout"
        }
      ]
    },
    {
      "cell_type": "code",
      "metadata": {
        "id": "OuiWTSRGn16V",
        "colab_type": "code",
        "colab": {
          "base_uri": "https://localhost:8080/",
          "height": 301
        },
        "outputId": "84771e13-bb30-4b8e-91b0-ae466e29d6be"
      },
      "source": [
        "pip install seqeval"
      ],
      "execution_count": 39,
      "outputs": [
        {
          "output_type": "stream",
          "text": [
            "Collecting seqeval\n",
            "  Downloading https://files.pythonhosted.org/packages/34/91/068aca8d60ce56dd9ba4506850e876aba5e66a6f2f29aa223224b50df0de/seqeval-0.0.12.tar.gz\n",
            "Requirement already satisfied: numpy>=1.14.0 in /usr/local/lib/python3.6/dist-packages (from seqeval) (1.17.3)\n",
            "Requirement already satisfied: Keras>=2.2.4 in /usr/local/lib/python3.6/dist-packages (from seqeval) (2.2.5)\n",
            "Requirement already satisfied: pyyaml in /usr/local/lib/python3.6/dist-packages (from Keras>=2.2.4->seqeval) (3.13)\n",
            "Requirement already satisfied: h5py in /usr/local/lib/python3.6/dist-packages (from Keras>=2.2.4->seqeval) (2.8.0)\n",
            "Requirement already satisfied: six>=1.9.0 in /usr/local/lib/python3.6/dist-packages (from Keras>=2.2.4->seqeval) (1.12.0)\n",
            "Requirement already satisfied: scipy>=0.14 in /usr/local/lib/python3.6/dist-packages (from Keras>=2.2.4->seqeval) (1.3.1)\n",
            "Requirement already satisfied: keras-applications>=1.0.8 in /usr/local/lib/python3.6/dist-packages (from Keras>=2.2.4->seqeval) (1.0.8)\n",
            "Requirement already satisfied: keras-preprocessing>=1.1.0 in /usr/local/lib/python3.6/dist-packages (from Keras>=2.2.4->seqeval) (1.1.0)\n",
            "Building wheels for collected packages: seqeval\n",
            "  Building wheel for seqeval (setup.py) ... \u001b[?25l\u001b[?25hdone\n",
            "  Created wheel for seqeval: filename=seqeval-0.0.12-cp36-none-any.whl size=7424 sha256=21577c4214d8db9a5daa4e6c42472c15a05c458de339ab7ec76c48decdde5aa7\n",
            "  Stored in directory: /root/.cache/pip/wheels/4f/32/0a/df3b340a82583566975377d65e724895b3fad101a3fb729f68\n",
            "Successfully built seqeval\n",
            "Installing collected packages: seqeval\n",
            "Successfully installed seqeval-0.0.12\n"
          ],
          "name": "stdout"
        }
      ]
    },
    {
      "cell_type": "code",
      "metadata": {
        "id": "2pcNu2b3oCR-",
        "colab_type": "code",
        "colab": {
          "base_uri": "https://localhost:8080/",
          "height": 84
        },
        "outputId": "52207ee8-2b51-4327-dac9-6de36a4417e2"
      },
      "source": [
        "data['label'].value_counts()"
      ],
      "execution_count": 56,
      "outputs": [
        {
          "output_type": "execute_result",
          "data": {
            "text/plain": [
              "O            5034983\n",
              "B-Symptom     352543\n",
              "I-Symptom       5155\n",
              "Name: label, dtype: int64"
            ]
          },
          "metadata": {
            "tags": []
          },
          "execution_count": 56
        }
      ]
    },
    {
      "cell_type": "code",
      "metadata": {
        "id": "ubSIt8fGt3Tk",
        "colab_type": "code",
        "colab": {
          "base_uri": "https://localhost:8080/",
          "height": 33
        },
        "outputId": "dd79d667-98a0-4631-9a1d-aa46dc7aa584"
      },
      "source": [
        "y_test.shape"
      ],
      "execution_count": 60,
      "outputs": [
        {
          "output_type": "execute_result",
          "data": {
            "text/plain": [
              "(34221, 35)"
            ]
          },
          "metadata": {
            "tags": []
          },
          "execution_count": 60
        }
      ]
    },
    {
      "cell_type": "code",
      "metadata": {
        "id": "-eYGZHhIuQLo",
        "colab_type": "code",
        "colab": {
          "base_uri": "https://localhost:8080/",
          "height": 1000
        },
        "outputId": "67006e02-f4c7-4756-cd53-a244467dff84"
      },
      "source": [
        "print(y_test[0:10])\n",
        "print(y_hat[0:10])\n"
      ],
      "execution_count": 79,
      "outputs": [
        {
          "output_type": "stream",
          "text": [
            "[[1 1 1 1 1 1 1 1 1 1 1 1 1 1 1 1 1 0 1 1 1 1 1 1 1 1 1 1 1 1 1 1 1 1 1]\n",
            " [1 1 1 1 1 1 1 0 1 1 1 1 1 1 1 1 1 1 1 1 1 1 1 1 1 1 1 1 1 1 1 1 1 1 1]\n",
            " [1 1 1 1 1 0 1 1 1 1 1 1 1 1 1 1 1 1 1 1 1 1 1 1 1 1 1 1 1 1 1 1 1 1 1]\n",
            " [1 1 1 1 0 1 1 1 1 1 1 0 1 1 1 1 1 1 1 1 1 1 1 1 1 1 1 1 1 1 1 1 1 1 1]\n",
            " [1 1 0 1 1 1 1 1 1 1 1 1 1 1 1 1 1 1 1 1 1 1 1 1 1 1 1 1 1 1 1 1 1 1 1]\n",
            " [1 1 1 1 1 1 1 1 1 1 1 1 1 1 1 1 1 1 1 1 1 1 1 1 0 1 1 1 1 1 1 1 1 1 1]\n",
            " [1 1 1 1 1 1 1 0 1 1 1 1 1 1 1 1 1 1 1 1 1 1 1 1 1 1 1 1 1 1 1 1 1 1 1]\n",
            " [1 1 1 1 0 1 1 1 1 1 1 1 1 1 1 1 1 1 1 1 1 1 1 1 1 1 1 1 1 1 1 1 1 1 1]\n",
            " [0 1 1 1 1 1 1 1 1 1 1 1 1 1 1 0 1 1 1 1 1 1 1 1 1 1 1 1 1 1 1 1 1 1 1]\n",
            " [1 1 1 1 1 1 1 1 1 1 1 0 1 1 1 1 1 1 1 1 1 1 1 1 1 1 1 1 1 1 1 1 1 1 1]]\n",
            "[[[5.9208405e-06 9.9991512e-01 7.8878613e-05]\n",
            "  [8.4726998e-06 9.9720579e-01 2.7857295e-03]\n",
            "  [1.2171252e-07 9.9998975e-01 1.0149465e-05]\n",
            "  ...\n",
            "  [3.9498153e-07 9.9999797e-01 1.6323543e-06]\n",
            "  [5.1757013e-07 9.9999738e-01 2.1123112e-06]\n",
            "  [6.5525052e-07 9.9999678e-01 2.6460746e-06]]\n",
            "\n",
            " [[1.4147967e-06 9.9998498e-01 1.3552826e-05]\n",
            "  [1.4865297e-07 9.9999881e-01 1.0979578e-06]\n",
            "  [1.1674440e-06 9.9999833e-01 4.5052693e-07]\n",
            "  ...\n",
            "  [4.9158774e-07 9.9999797e-01 1.5959481e-06]\n",
            "  [6.8341984e-07 9.9999714e-01 2.1625369e-06]\n",
            "  [9.0787080e-07 9.9999619e-01 2.8111938e-06]]\n",
            "\n",
            " [[9.2618387e-07 9.9999404e-01 5.0350436e-06]\n",
            "  [4.0789041e-06 9.9997532e-01 2.0591560e-05]\n",
            "  [1.1651332e-04 9.9975556e-01 1.2790311e-04]\n",
            "  ...\n",
            "  [8.8193974e-07 9.9999714e-01 2.0366053e-06]\n",
            "  [1.2251680e-06 9.9999607e-01 2.7574142e-06]\n",
            "  [1.6258083e-06 9.9999475e-01 3.5818352e-06]]\n",
            "\n",
            " ...\n",
            "\n",
            " [[3.0675315e-07 9.9999940e-01 2.5037463e-07]\n",
            "  [4.0200032e-08 9.9999988e-01 9.0186148e-08]\n",
            "  [1.7216739e-07 9.9999988e-01 5.6393365e-08]\n",
            "  ...\n",
            "  [7.7727776e-08 9.9999917e-01 7.2913588e-07]\n",
            "  [1.1031508e-07 9.9999893e-01 9.9781437e-07]\n",
            "  [1.4918024e-07 9.9999857e-01 1.3081690e-06]]\n",
            "\n",
            " [[5.4520214e-01 4.5443863e-01 3.5923164e-04]\n",
            "  [1.8220047e-03 9.9764013e-01 5.3785695e-04]\n",
            "  [1.8428555e-12 1.0000000e+00 9.3192576e-10]\n",
            "  ...\n",
            "  [5.8741261e-07 9.9999774e-01 1.7014279e-06]\n",
            "  [8.3552527e-07 9.9999678e-01 2.3319747e-06]\n",
            "  [1.1320666e-06 9.9999583e-01 3.0617382e-06]]\n",
            "\n",
            " [[3.7181550e-07 9.9999869e-01 8.9593044e-07]\n",
            "  [8.0194360e-07 9.9999690e-01 2.2390329e-06]\n",
            "  [1.9852087e-07 9.9999952e-01 2.8412808e-07]\n",
            "  ...\n",
            "  [1.6513397e-06 9.9999547e-01 2.8887541e-06]\n",
            "  [2.0596083e-06 9.9999428e-01 3.7112959e-06]\n",
            "  [2.5014613e-06 9.9999285e-01 4.6040254e-06]]]\n"
          ],
          "name": "stdout"
        }
      ]
    },
    {
      "cell_type": "code",
      "metadata": {
        "id": "0Bzp_5tWulUr",
        "colab_type": "code",
        "colab": {}
      },
      "source": [
        ""
      ],
      "execution_count": 0,
      "outputs": []
    }
  ]
}